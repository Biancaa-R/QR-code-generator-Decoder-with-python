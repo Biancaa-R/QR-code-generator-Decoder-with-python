{
  "nbformat": 4,
  "nbformat_minor": 0,
  "metadata": {
    "colab": {
      "name": "Scanner,Decoder.ipynb",
      "provenance": [],
      "authorship_tag": "ABX9TyMkm1z7M8JD7xRQ/UNTnut5",
      "include_colab_link": true
    },
    "kernelspec": {
      "name": "python3",
      "display_name": "Python 3"
    },
    "language_info": {
      "name": "python"
    }
  },
  "cells": [
    {
      "cell_type": "markdown",
      "metadata": {
        "id": "view-in-github",
        "colab_type": "text"
      },
      "source": [
        "<a href=\"https://colab.research.google.com/github/Biancaa-R/Scanner-Decoder-with-python/blob/main/Scanner%2CDecoder.ipynb\" target=\"_parent\"><img src=\"https://colab.research.google.com/assets/colab-badge.svg\" alt=\"Open In Colab\"/></a>"
      ]
    },
    {
      "cell_type": "markdown",
      "metadata": {
        "id": "qlvLxOm3PE2-"
      },
      "source": [
        "#Python program to generate qr code and decode the code"
      ]
    },
    {
      "cell_type": "code",
      "metadata": {
        "colab": {
          "base_uri": "https://localhost:8080/"
        },
        "id": "mDmJyeSwINpD",
        "outputId": "69987085-1887-486c-be31-599ba999bd7b"
      },
      "source": [
        "!pip install pyqrcode\n",
        "!pip install pypng\n",
        "!pip install pillow\n",
        "!pip install pyzbar\n"
      ],
      "execution_count": 5,
      "outputs": [
        {
          "output_type": "stream",
          "text": [
            "Requirement already satisfied: pyqrcode in /usr/local/lib/python3.7/dist-packages (1.2.1)\n",
            "Requirement already satisfied: pypng in /usr/local/lib/python3.7/dist-packages (0.0.20)\n",
            "Requirement already satisfied: pillow in /usr/local/lib/python3.7/dist-packages (7.1.2)\n",
            "Collecting pyzbar\n",
            "  Downloading pyzbar-0.1.8-py2.py3-none-any.whl (28 kB)\n",
            "Installing collected packages: pyzbar\n",
            "Successfully installed pyzbar-0.1.8\n"
          ],
          "name": "stdout"
        }
      ]
    },
    {
      "cell_type": "markdown",
      "metadata": {
        "id": "UNM_opvEMxym"
      },
      "source": [
        "when you get an error when you try to import decode from pyzbar use this additional step it works for me."
      ]
    },
    {
      "cell_type": "code",
      "metadata": {
        "colab": {
          "base_uri": "https://localhost:8080/"
        },
        "id": "h592Th1eLslr",
        "outputId": "ae3c1677-985b-4631-b665-9c7690295bff"
      },
      "source": [
        "!apt install libzbar0"
      ],
      "execution_count": 18,
      "outputs": [
        {
          "output_type": "stream",
          "text": [
            "Reading package lists... Done\n",
            "Building dependency tree       \n",
            "Reading state information... Done\n",
            "The following package was automatically installed and is no longer required:\n",
            "  libnvidia-common-460\n",
            "Use 'apt autoremove' to remove it.\n",
            "The following additional packages will be installed:\n",
            "  libv4l-0 libv4lconvert0\n",
            "The following NEW packages will be installed:\n",
            "  libv4l-0 libv4lconvert0 libzbar0\n",
            "0 upgraded, 3 newly installed, 0 to remove and 40 not upgraded.\n",
            "Need to get 193 kB of archives.\n",
            "After this operation, 760 kB of additional disk space will be used.\n",
            "Get:1 http://archive.ubuntu.com/ubuntu bionic/main amd64 libv4lconvert0 amd64 1.14.2-1 [76.1 kB]\n",
            "Get:2 http://archive.ubuntu.com/ubuntu bionic/main amd64 libv4l-0 amd64 1.14.2-1 [41.7 kB]\n",
            "Get:3 http://archive.ubuntu.com/ubuntu bionic/universe amd64 libzbar0 amd64 0.10+doc-10.1build2 [75.7 kB]\n",
            "Fetched 193 kB in 1s (375 kB/s)\n",
            "Selecting previously unselected package libv4lconvert0:amd64.\n",
            "(Reading database ... 148486 files and directories currently installed.)\n",
            "Preparing to unpack .../libv4lconvert0_1.14.2-1_amd64.deb ...\n",
            "Unpacking libv4lconvert0:amd64 (1.14.2-1) ...\n",
            "Selecting previously unselected package libv4l-0:amd64.\n",
            "Preparing to unpack .../libv4l-0_1.14.2-1_amd64.deb ...\n",
            "Unpacking libv4l-0:amd64 (1.14.2-1) ...\n",
            "Selecting previously unselected package libzbar0:amd64.\n",
            "Preparing to unpack .../libzbar0_0.10+doc-10.1build2_amd64.deb ...\n",
            "Unpacking libzbar0:amd64 (0.10+doc-10.1build2) ...\n",
            "Setting up libv4lconvert0:amd64 (1.14.2-1) ...\n",
            "Setting up libv4l-0:amd64 (1.14.2-1) ...\n",
            "Setting up libzbar0:amd64 (0.10+doc-10.1build2) ...\n",
            "Processing triggers for libc-bin (2.27-3ubuntu1.2) ...\n",
            "/sbin/ldconfig.real: /usr/local/lib/python3.7/dist-packages/ideep4py/lib/libmkldnn.so.0 is not a symbolic link\n",
            "\n"
          ],
          "name": "stdout"
        }
      ]
    },
    {
      "cell_type": "code",
      "metadata": {
        "colab": {
          "base_uri": "https://localhost:8080/"
        },
        "id": "OQg4AuFsJAD5",
        "outputId": "98f7ddd4-8d32-4499-a925-8c36df0fbeab"
      },
      "source": [
        "import pyqrcode\n",
        "from pyzbar.pyzbar import decode\n",
        "from PIL import Image\n",
        "qr=pyqrcode.create(\"biancaa\")\n",
        "qr.png(\"mycode.png\",scale=8)\n",
        "\n",
        "d=decode(Image.open(\"mycode.png\"))\n",
        "print(d)"
      ],
      "execution_count": 23,
      "outputs": [
        {
          "output_type": "stream",
          "text": [
            "[Decoded(data=b'biancaa', type='QRCODE', rect=Rect(left=32, top=32, width=168, height=168), polygon=[Point(x=32, y=32), Point(x=32, y=200), Point(x=200, y=200), Point(x=200, y=32)])]\n"
          ],
          "name": "stdout"
        }
      ]
    },
    {
      "cell_type": "markdown",
      "metadata": {
        "id": "wmAhDFM0Orcc"
      },
      "source": [
        "You can go an extra mile if you want only the decoded text."
      ]
    },
    {
      "cell_type": "code",
      "metadata": {
        "colab": {
          "base_uri": "https://localhost:8080/"
        },
        "id": "kFTuYT5qOzTc",
        "outputId": "b41eeaa5-ae6e-43a8-b063-3cf31e61dd3a"
      },
      "source": [
        "import pyqrcode\n",
        "from pyzbar.pyzbar import decode\n",
        "from PIL import Image\n",
        "qr=pyqrcode.create(\"biancaa\")\n",
        "qr.png(\"mycode.png\",scale=8)\n",
        "\n",
        "d=decode(Image.open(\"mycode.png\"))\n",
        "print(d[0].data.decode(\"ascii\"))"
      ],
      "execution_count": 24,
      "outputs": [
        {
          "output_type": "stream",
          "text": [
            "biancaa\n"
          ],
          "name": "stdout"
        }
      ]
    },
    {
      "cell_type": "markdown",
      "metadata": {
        "id": "87e1YSSyNsO1"
      },
      "source": [
        "![mycode.png](data:image/png;base64,iVBORw0KGgoAAAANSUhEUgAAAOgAAADoAQAAAADN0pXVAAAArElEQVR4nO3WSw6DMAxF0bv/Tbui/tWt6Bi9OKAQ5zAhMQbsX2N1dfXpircrgo50NR/9so6ElZqnojPUDlKrlFfX6LGc19aoX3Hc1Dod7XZMCKN0I61Y5Hqf2vouYtQorrKau07t/Wf1FtQiopzZdzXTU+ssSFTV+lrh7zazmulpDvMmxmoIKuSfyNh+eZ3Zr64+8Kz/XQ0ljZ7OeWmtGI/m7svpbVtdXX2yvgCBv2WmrgOkLQAAAABJRU5ErkJggg==)"
      ]
    },
    {
      "cell_type": "markdown",
      "metadata": {
        "id": "2o2HqB1jOU40"
      },
      "source": [
        "This is the qr code generated with the help of pyqrcode"
      ]
    }
  ]
}